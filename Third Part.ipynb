{
 "cells": [
  {
   "cell_type": "markdown",
   "metadata": {},
   "source": [
    "#Third Part"
   ]
  },
  {
   "cell_type": "markdown",
   "metadata": {},
   "source": [
    "Task 1: Parse JSON file recursively"
   ]
  },
  {
   "cell_type": "code",
   "execution_count": 1,
   "metadata": {},
   "outputs": [],
   "source": [
    "import gzip\n",
    "import json\n",
    "\n",
    "def parse_categories(file_path):\n",
    "    with gzip.open(file_path, 'rt') as f:\n",
    "        data = json.load(f)\n",
    "\n",
    "    def recursive_parser(categories):\n",
    "        result = {}\n",
    "        for category in categories:\n",
    "            result[category['name']] = recursive_parser(category.get('subcategories', []))\n",
    "        return result\n",
    "\n",
    "    return recursive_parser(data)\n",
    "\n",
    "# Example usage\n",
    "# print(parse_categories(\"third_part/categories.json.gz\"))\n"
   ]
  },
  {
   "cell_type": "markdown",
   "metadata": {},
   "source": [
    "Task 2: Scrapy Spider for Woolworths\n"
   ]
  },
  {
   "cell_type": "code",
   "execution_count": null,
   "metadata": {},
   "outputs": [],
   "source": [
    "import scrapy\n",
    "from third_part.items import ProductItem\n",
    "\n",
    "class WoolworthsSpider(scrapy.Spider):\n",
    "    name = \"woolworths\"\n",
    "    start_urls = [\"https://www.woolworths.com.au/shop/browse/drinks/cordials-juices-iced-teas/iced-teas\"]\n",
    "\n",
    "    def parse(self, response):\n",
    "        products = response.css('.shelfProductTile-descriptionLink ::text').getall()\n",
    "        breadcrumb = response.css('.breadcrumb-list li a::text').getall()\n",
    "        for product in products:\n",
    "            item = ProductItem()\n",
    "            item['product_name'] = product.strip()\n",
    "            item['breadcrumb'] = breadcrumb\n",
    "            yield item\n"
   ]
  },
  {
   "cell_type": "markdown",
   "metadata": {},
   "source": [
    "Task 3: Scrapy Spider for Edeka\n"
   ]
  },
  {
   "cell_type": "code",
   "execution_count": 16,
   "metadata": {},
   "outputs": [
    {
     "name": "stdout",
     "output_type": "stream",
     "text": [
      "Note: you may need to restart the kernel to use updated packages.\n"
     ]
    },
    {
     "name": "stderr",
     "output_type": "stream",
     "text": [
      "ERROR: Could not find a version that satisfies the requirement third_part (from versions: none)\n",
      "ERROR: No matching distribution found for third_part\n"
     ]
    }
   ],
   "source": [
    "import scrapy\n",
    "from third_part.items import ProductItem\n",
    "\n",
    "class EdekaSpider(scrapy.Spider):\n",
    "    name = \"edeka\"\n",
    "    start_urls = [\"https://www.edeka24.de/Lebensmittel/Suess-Salzig/Schokoriegel/\"]\n",
    "\n",
    "    def parse(self, response):\n",
    "        products = response.css('.product-name ::text').getall()\n",
    "        breadcrumb = response.css('.breadcrumb li a::text').getall()\n",
    "        for product in products:\n",
    "            item = ProductItem()\n",
    "            item['product_name'] = product.strip()\n",
    "            item['breadcrumb'] = breadcrumb\n",
    "            yield item\n"
   ]
  },
  {
   "cell_type": "markdown",
   "metadata": {},
   "source": [
    "Run the Spider: scrapy crawl edeka -o edeka_products.csv\n",
    "\n"
   ]
  }
 ],
 "metadata": {
  "kernelspec": {
   "display_name": "base",
   "language": "python",
   "name": "python3"
  },
  "language_info": {
   "codemirror_mode": {
    "name": "ipython",
    "version": 3
   },
   "file_extension": ".py",
   "mimetype": "text/x-python",
   "name": "python",
   "nbconvert_exporter": "python",
   "pygments_lexer": "ipython3",
   "version": "3.12.7"
  }
 },
 "nbformat": 4,
 "nbformat_minor": 2
}
