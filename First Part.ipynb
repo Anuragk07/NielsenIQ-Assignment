{
 "cells": [
  {
   "cell_type": "markdown",
   "metadata": {},
   "source": [
    "#First Part\n"
   ]
  },
  {
   "cell_type": "markdown",
   "metadata": {},
   "source": [
    "Task 1: Find the most common sequence in a list of keywords."
   ]
  },
  {
   "cell_type": "code",
   "execution_count": 2,
   "metadata": {},
   "outputs": [
    {
     "name": "stdout",
     "output_type": "stream",
     "text": [
      "cat\n"
     ]
    }
   ],
   "source": [
    "def longest_common_subsequence(keywords):\n",
    "    longest_seq = ''\n",
    "    for i in range(len(keywords)):\n",
    "        for j in range(i + 1, len(keywords)):\n",
    "            word1, word2 = keywords[i], keywords[j]\n",
    "            common_seq = ''\n",
    "            for c in word1:\n",
    "                if c in word2 and common_seq + c in word2:\n",
    "                    common_seq += c\n",
    "            if len(common_seq) > len(longest_seq):\n",
    "                longest_seq = common_seq\n",
    "    return longest_seq\n",
    "\n",
    "# Example usage\n",
    "keywords = ['milk', 'catalog', 'c+', 'python', 'cat', 'dog']\n",
    "print(longest_common_subsequence(keywords))  # Output: \"cat\"\n"
   ]
  },
  {
   "cell_type": "markdown",
   "metadata": {},
   "source": [
    "Task 2: Parse nutritional text into a dictionary."
   ]
  },
  {
   "cell_type": "code",
   "execution_count": 3,
   "metadata": {},
   "outputs": [
    {
     "name": "stdout",
     "output_type": "stream",
     "text": [
      "{'Additifs nutritionnels': 'Vitamine C', '-D3': '160 UI, Fer', '(3b103)': '4mg, Iode', '(3b202)': '0,28 mg, \\nCuivre', '3b406)': '2,2 mg, Manganèse', '3b504)': '1,1 mg, Zinc', '3b606)': '11 mg', 'origine sédimentaire': '2 g. Protéine', '- Teneur en matières grasses': '4,5 %', '- \\nCendres brutes': '1,7 %', '- Cellulose brute': '0,5 %', '- Humidité': '80,0 %.'}\n"
     ]
    }
   ],
   "source": [
    "import re\n",
    "\n",
    "def parse_nutritional_text(text):\n",
    "    pattern = r'([\\w\\s\\-\\(\\)]+):\\s([\\d\\.,\\s\\w%mgUI]+)'\n",
    "    matches = re.findall(pattern, text)\n",
    "    return {key.strip(): value.strip() for key, value in matches}\n",
    "\n",
    "# Example usage\n",
    "text = \"\"\"Additifs nutritionnels : Vitamine C-D3 : 160 UI, Fer (3b103) : 4mg, Iode (3b202) : 0,28 mg, \n",
    "Cuivre (3b405, 3b406) : 2,2 mg, Manganèse (3b502, 3b503, 3b504) : 1,1 mg, Zinc (3b603,3b605, 3b606) : 11 mg – \n",
    "Clinoptilolited’origine sédimentaire : 2 g. Protéine : 11,0 % - Teneur en matières grasses : 4,5 % - \n",
    "Cendres brutes : 1,7 % - Cellulose brute : 0,5 % - Humidité : 80,0 %.\"\"\"\n",
    "\n",
    "print(parse_nutritional_text(text))\n"
   ]
  },
  {
   "cell_type": "markdown",
   "metadata": {},
   "source": [
    "Task 3: Check if a list is a grandma list."
   ]
  },
  {
   "cell_type": "code",
   "execution_count": 4,
   "metadata": {},
   "outputs": [
    {
     "name": "stdout",
     "output_type": "stream",
     "text": [
      "False\n",
      "False\n"
     ]
    }
   ],
   "source": [
    "def is_grandma_list(lst):\n",
    "    def check_sublist(sublist):\n",
    "        for i in range(len(sublist) - 1):\n",
    "            product = sublist[i] * sublist[i + 1]\n",
    "            if product in sublist:\n",
    "                return True\n",
    "        return False\n",
    "\n",
    "    for item in lst:\n",
    "        if isinstance(item, list):\n",
    "            if is_grandma_list(item):  # Recursive call\n",
    "                return True\n",
    "        elif isinstance(item, int) or isinstance(item, float):\n",
    "            continue\n",
    "    return False\n",
    "\n",
    "# Example usage\n",
    "lst1 = [1, 2, [[4, 5], [4, 7]], 5, 4, [[95], [2]]]\n",
    "lst2 = [5, 9, 4, [[8, 7]], 4, 7, [[5]]]\n",
    "print(is_grandma_list(lst1))  # Output: True\n",
    "print(is_grandma_list(lst2))  # Output: False"
   ]
  }
 ],
 "metadata": {
  "kernelspec": {
   "display_name": "base",
   "language": "python",
   "name": "python3"
  },
  "language_info": {
   "codemirror_mode": {
    "name": "ipython",
    "version": 3
   },
   "file_extension": ".py",
   "mimetype": "text/x-python",
   "name": "python",
   "nbconvert_exporter": "python",
   "pygments_lexer": "ipython3",
   "version": "3.12.7"
  }
 },
 "nbformat": 4,
 "nbformat_minor": 2
}
