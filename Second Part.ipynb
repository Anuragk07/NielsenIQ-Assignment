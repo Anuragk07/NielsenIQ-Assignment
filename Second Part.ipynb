{
 "cells": [
  {
   "cell_type": "markdown",
   "metadata": {},
   "source": [
    "#Second Part"
   ]
  },
  {
   "cell_type": "markdown",
   "metadata": {},
   "source": [
    "Task 1: HTTP GET Request"
   ]
  },
  {
   "cell_type": "code",
   "execution_count": 1,
   "metadata": {},
   "outputs": [
    {
     "name": "stdout",
     "output_type": "stream",
     "text": [
      "Request failed\n"
     ]
    }
   ],
   "source": [
    "import requests\n",
    "\n",
    "def http_request():\n",
    "    url = 'https://europe-west1-dataimpact-preproduction.cloudfunctions.net/recruitement_test_requests?task=1'\n",
    "    response = requests.get(url)\n",
    "    if response.status_code == 200:\n",
    "        try:\n",
    "            data = response.json()\n",
    "            if \"success\" in data.get(\"message\", \"\").lower():\n",
    "                return data\n",
    "        except ValueError:\n",
    "            pass\n",
    "    return \"Request failed\"\n",
    "\n",
    "print(http_request())"
   ]
  },
  {
   "cell_type": "markdown",
   "metadata": {},
   "source": [
    "Task 2: Modify curl command"
   ]
  },
  {
   "cell_type": "code",
   "execution_count": null,
   "metadata": {},
   "outputs": [],
   "source": [
    "curl -X GET \\\n",
    "     -H \"User-Agent: Mozilla/5.0 (X11; Linux x86_64) AppleWebKit/537.36 (KHTML, like Gecko) Chrome/117.0.0.0 Safari/537.36\" \\\n",
    "     -H \"Accept: application/json\" \\\n",
    "     -H \"Content-Type: application/json\" \\\n",
    "     \"https://europe-west1-dataimpact-preproduction.cloudfunctions.net/recruitement_test_requests?task=2\"\n"
   ]
  },
  {
   "cell_type": "markdown",
   "metadata": {},
   "source": [
    "Task 3: First day of the last week of the current month"
   ]
  },
  {
   "cell_type": "code",
   "execution_count": 4,
   "metadata": {},
   "outputs": [
    {
     "name": "stdout",
     "output_type": "stream",
     "text": [
      "2025-01/26\n"
     ]
    }
   ],
   "source": [
    "from datetime import datetime, timedelta\n",
    "import calendar\n",
    "\n",
    "def format_date(func):\n",
    "    def wrapper(*args, **kwargs):\n",
    "        date = func(*args, **kwargs)\n",
    "        return date.strftime('%Y-%m/%d')\n",
    "    return wrapper\n",
    "\n",
    "@format_date\n",
    "def first_day_last_week():\n",
    "    today = datetime.today()\n",
    "    _, last_day = calendar.monthrange(today.year, today.month)\n",
    "    # Calculate the last week's starting date\n",
    "    last_day_of_month = datetime(today.year, today.month, last_day)\n",
    "    start_of_last_week = last_day_of_month - timedelta(days=last_day_of_month.weekday() + 1)\n",
    "    return start_of_last_week\n",
    "\n",
    "print(first_day_last_week())"
   ]
  },
  {
   "cell_type": "markdown",
   "metadata": {},
   "source": [
    "Task 4: Write tests for CacheDecorator\n"
   ]
  },
  {
   "cell_type": "code",
   "execution_count": 5,
   "metadata": {},
   "outputs": [],
   "source": [
    "# Example test cases\n",
    "def test_cache_decorator_initialization():\n",
    "    # Simulate the initialization of CacheDecorator\n",
    "    assert False, \"Intentional fail to identify a bug\""
   ]
  },
  {
   "cell_type": "markdown",
   "metadata": {},
   "source": [
    "Task 5: Update LoginMetaClass"
   ]
  },
  {
   "cell_type": "code",
   "execution_count": 6,
   "metadata": {},
   "outputs": [],
   "source": [
    "class LoginMetaClass(type):\n",
    "    def __getattribute__(cls, name):\n",
    "        if not cls.logged_in:\n",
    "            raise Exception(\"User is not logged in!\")\n",
    "        return super().__getattribute__(name)\n"
   ]
  }
 ],
 "metadata": {
  "kernelspec": {
   "display_name": "base",
   "language": "python",
   "name": "python3"
  },
  "language_info": {
   "codemirror_mode": {
    "name": "ipython",
    "version": 3
   },
   "file_extension": ".py",
   "mimetype": "text/x-python",
   "name": "python",
   "nbconvert_exporter": "python",
   "pygments_lexer": "ipython3",
   "version": "3.12.7"
  }
 },
 "nbformat": 4,
 "nbformat_minor": 2
}
